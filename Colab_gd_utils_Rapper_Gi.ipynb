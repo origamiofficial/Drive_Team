{
  "nbformat": 4,
  "nbformat_minor": 0,
  "metadata": {
    "colab": {
      "name": "Colab-gd-utils - Rapper Gi.ipynb",
      "provenance": [],
      "collapsed_sections": [],
      "include_colab_link": true
    },
    "kernelspec": {
      "name": "python3",
      "display_name": "Python 3"
    }
  },
  "cells": [
    {
      "cell_type": "markdown",
      "metadata": {
        "id": "view-in-github",
        "colab_type": "text"
      },
      "source": [
        "<a href=\"https://colab.research.google.com/github/rappergi/Drive_Team/blob/master/Colab_gd_utils_Rapper_Gi.ipynb\" target=\"_parent\"><img src=\"https://colab.research.google.com/assets/colab-badge.svg\" alt=\"Open In Colab\"/></a>"
      ]
    },
    {
      "cell_type": "markdown",
      "metadata": {
        "id": "3Z8cK8h2Avbv"
      },
      "source": [
        "### <font size=5px color=\"#95C7AE\">Ngăn Không Cho Google Colab Ngắt Kết Nối:</font>\n",
        "<p><font size=3px > Tự động làm mới mã sau mỗi 60 phút, nâng giới hạn ngắt kết nối trong 90 phút.\n",
        "<p><font size=3px > Cách sử dụng: nhấn F12 hoặc Ctrl + Shift + I (mac nhấn Option + Command + I) trên trang colab, nhập đoạn mã sau vào bảng điều khiển (console) và nhấn Enter.. </p><b>Sao chép đoạn mã sau và dán vào bảng điều khiển của trình duyệt! ! Không đóng trình duyệt để tránh thất bại</b>\n",
        "\n",
        "\n",
        "```javascript\n",
        "function ConnectButton(){\n",
        "    console.log(\"Connect pushed\"); \n",
        "    document.querySelector(\"#connect\").click() \n",
        "}\n",
        "setInterval(ConnectButton,60000);\n",
        "```"
      ]
    },
    {
      "cell_type": "code",
      "metadata": {
        "id": "jtClEMAMLVHw",
        "cellView": "form"
      },
      "source": [
        "#@markdown <h3>← Chạy sau khi nhập mã để tránh bị ngắt kết nối</h>\n",
        "\n",
        "\n",
        "import IPython\n",
        "from google.colab import output\n",
        "\n",
        "display(IPython.display.Javascript('''\n",
        " function ClickConnect(){\n",
        "   btn = document.querySelector(\"colab-connect-button\")\n",
        "   if (btn != null){\n",
        "     console.log(\"Click colab-connect-button\"); \n",
        "     btn.click() \n",
        "     }\n",
        "   \n",
        "   btn = document.getElementById('ok')\n",
        "   if (btn != null){\n",
        "     console.log(\"Click reconnect\"); \n",
        "     btn.click() \n",
        "     }\n",
        "  }\n",
        "  \n",
        "setInterval(ClickConnect,60000)\n",
        "'''))\n",
        "\n",
        "print(\"Done.\")"
      ],
      "execution_count": null,
      "outputs": []
    },
    {
      "cell_type": "markdown",
      "metadata": {
        "id": "ICXqpDfanEX-"
      },
      "source": [
        "### <font size=5px color=\"#95C7AE\">Hướng Dẫn Sử Dụng Cho Lần Đầu Tiên:</font>\n",
        "<p><font size=3px color=\"#95C7AE\">Trong lần sử dụng đầu tiên, vui lòng đặt tệp SA json vào thư mục sa và tải thư mục đó lên thư mục gốc của đĩa mạng mà bạn đã mount bên dưới. Sau đó chạy lệnh Đóng gói sa folder ở cuối trang trước, lệnh này chỉ cần chạy một lần nên nó được đặt ở cuối trang</font>\n",
        "\n",
        "\n",
        "（Nếu bạn đã sử dụng gclone có thể tìm thấy Autoclone, FolderClone dưới thư mục accounts tương ứng, nếu bạn chưa từng sử dụng, vui lòng tạo theo lời giới thiệu của tác giả gốc GitHub）\n",
        "\n",
        "## <p><font size=3px>Tác Giả：[https://github.com/iwestlin/gd-utils](https://github.com/iwestlin/gd-utils).\n",
        "## <p><font size=3px>Link Project：[https://github.com/iErics/gd-utils](https://github.com/iErics/gd-utils)\n"
      ]
    },
    {
      "cell_type": "code",
      "metadata": {
        "id": "VoQCd8Mnpp9q",
        "cellView": "form"
      },
      "source": [
        "#@markdown <h3>← Click vào đây để chạy, tương tự bên dưới\n",
        "#@markdown <br><left><img src='https://upload.wikimedia.org/wikipedia/commons/thumb/d/da/Google_Drive_logo.png/600px-Google_Drive_logo.png' height=\"50\" alt=\"Gdrive-logo\"/></left>\n",
        "#@markdown <h2>Mount Drive và cài đặt gd-utils\n",
        "#@markdown <h3>Drive cần được mount chỉ cần có lưu tệp sa.zip ngoài thư mục My drive ( Đường dẫn colab /content/drive/sa.zip )\n",
        "from google.colab import drive\n",
        "from IPython.display import clear_output\n",
        "\n",
        "drive.mount('/content/drive')\n",
        "\n",
        "clear_output()\n",
        "print(\"Bắt đầu cài đặt gd-utils...\")\n",
        "\n",
        "!curl -sL https://deb.nodesource.com/setup_14.x | sudo -E bash -\n",
        "clear_output()\n",
        "!sudo apt-get install -y nodejs\n",
        "clear_output()\n",
        "!git clone https://github.com/rappergi/Gdutils_Vi\n",
        "clear_output()\n",
        "%cd /content/Gdutils_Vi\n",
        "!npm install --unsafe-perm=true --allow-root\n",
        "\n",
        "clear_output()\n",
        "print(\"Cài đặt thành công, bắt đầu config folder SA\")\n",
        "\n",
        "%cp /content/drive/\"My Drive\"/sa.zip /content/Gdutils_Vi\n",
        "!unzip -o -q /content/Gdutils_Vi/sa.zip -d /content/Gdutils_Vi\n",
        "\n",
        "clear_output()\n",
        "print(\"Cài Đặt Hoàn Tất !\")\n",
        "\n"
      ],
      "execution_count": null,
      "outputs": []
    },
    {
      "cell_type": "code",
      "metadata": {
        "id": "GIuVg9Q7yAta",
        "cellView": "form"
      },
      "source": [
        "#@markdown <h3>Khu Vực Copy Folder</h3>\n",
        "#@markdown <h3>Điền ID của Thư Mục</h3>\n",
        "source = \"\" #@param {type:\"string\"}\n",
        "destination = \"\" #@param {type:\"string\"}\n",
        "\n",
        "\n",
        "print(\"-------Chuẩn bị bắt đầu，GKD-------\\n-------Waiting...\\n\")\n",
        "\n",
        "#!multifolderclone -s \"$source\" -d \"$destination\"\n",
        "\n",
        "!node --max-old-space-size=4096 copy \"$source\" \"$destination\"  -S\n",
        "\n",
        "\n",
        "print(\"\\n----------Sao Chép Thành Công----------\\n\")"
      ],
      "execution_count": null,
      "outputs": []
    },
    {
      "cell_type": "code",
      "metadata": {
        "id": "uVWTQI9bZjaF",
        "cellView": "form"
      },
      "source": [
        "#@markdown <h3>Khu Vực Thống Kê Và Kiểm Tra Kích Cỡ Thư Mục</h3>\n",
        "#@markdown <h4>Option các lệnh bổ sung. Ví dụ: -u có nghĩa là thường được sử dụng để buộc thông tin được lấy trực tuyến (bất kể có bộ nhớ cache cục bộ hay không). Bạn có thể để trống。</h4>\n",
        "FolderID = \"\" #@param {type:\"string\"}\n",
        "Options = \"\" #@param {type:\"string\"}\n",
        "\n",
        "\n",
        "\n",
        "\n",
        "\n",
        "print(\"-------Chuẩn Bị Bắt Đầu，GKD-------\\n-------Waiting....\\n\")\n",
        "\n",
        "#!multifolderclone -s \"$source\" -d \"$destination\"\n",
        "\n",
        "!node --max-old-space-size=4096 count \"$FolderID\" \"$Options:\" -S\n",
        "\n",
        "\n",
        "print(\"\\n----------Hoàn Thành Thống Kê----------\\n\")"
      ],
      "execution_count": null,
      "outputs": []
    },
    {
      "cell_type": "code",
      "metadata": {
        "id": "CPEOJ9CdIlIV",
        "cellView": "form"
      },
      "source": [
        "#@markdown <h3>Loại Bỏ SA Không sử dụng được</h3>\n",
        "#@markdown <h4>Vui lòng điền vào ID Folder mà SA có sẵn của bạn có thể đọc được bên dưới, ID Folder Team Drive hoặc ID thư mục trong đó, không sử dụng ID Folder được chia sẻ</h3>\n",
        "\n",
        "ID = \"\" #@param {type: \"string\"}\n",
        "\n",
        "!./validate-sa.js \"$ID\""
      ],
      "execution_count": null,
      "outputs": []
    },
    {
      "cell_type": "code",
      "metadata": {
        "id": "dRaSe6ujk2RK",
        "cellView": "form"
      },
      "source": [
        "#@markdown <h3>Xem thông tin trợ giúp về lệnh sao chép</h3>\n",
        "!./copy -h"
      ],
      "execution_count": null,
      "outputs": []
    },
    {
      "cell_type": "code",
      "metadata": {
        "id": "xMtlQIu51GGT",
        "cellView": "form"
      },
      "source": [
        "#@markdown <h3>Xem thông tin trợ giúp về lệnh thống kê</h3>\n",
        "!./count -h"
      ],
      "execution_count": null,
      "outputs": []
    },
    {
      "cell_type": "code",
      "metadata": {
        "id": "lV2AFyDzReeE",
        "cellView": "form"
      },
      "source": [
        "#@markdown <h3>Nén Zip thư mục SA, vui lòng xem tại đây</h3>\n",
        "MODE = \"ZIP\"\n",
        "FILENAME = \"sa.zip\" \n",
        "PATH_TO_FILE = \"/content/drive/My Drive/sa\"\n",
        "ARCHIVE_PASSWORD = \"\"\n",
        "compress = 1\n",
        "from pathlib import PurePosixPath\n",
        "from IPython.display import clear_output\n",
        "from google.colab import drive\n",
        "drive.mount('/content/drive')\n",
        "\n",
        "pathList = PATH_TO_FILE.split('|')\n",
        "if MODE == \"ZIP\":\n",
        "    if not FILENAME:\n",
        "      FILENAME = \"/content/NEW_FILE.ZIP\"\n",
        "    if ARCHIVE_PASSWORD:\n",
        "      passADD = f'--password \"{ARCHIVE_PASSWORD}\"'\n",
        "    else:\n",
        "      passADD = ''\n",
        "    for part in pathList:\n",
        "      pathdic = PurePosixPath(part.strip())\n",
        "      parent = pathdic.parent\n",
        "      partName = pathdic.parts[-1]\n",
        "      cmd = f'cd \"{parent}\" && zip {passADD} -{compress} -v -r -u \"{FILENAME}\" \"{partName}\"'\n",
        "      !$cmd\n",
        "clear_output()\n",
        "print(\"\\n----------Đã nén thành công----------\\n\")"
      ],
      "execution_count": null,
      "outputs": []
    }
  ]
}